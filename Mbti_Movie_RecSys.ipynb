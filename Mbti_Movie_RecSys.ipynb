{
  "nbformat": 4,
  "nbformat_minor": 0,
  "metadata": {
    "colab": {
      "name": "Mbti-Movie-RecSys.ipynb",
      "provenance": [],
      "collapsed_sections": []
    },
    "kernelspec": {
      "name": "python3",
      "display_name": "Python 3"
    },
    "language_info": {
      "name": "python"
    }
  },
  "cells": [
    {
      "cell_type": "markdown",
      "metadata": {
        "id": "T6fb2N-9Lr2T"
      },
      "source": [
        "# 1. 전처리와 통계 분석"
      ]
    },
    {
      "cell_type": "markdown",
      "metadata": {
        "id": "R-x8Lzw3L0Op"
      },
      "source": [
        "## Mbti"
      ]
    },
    {
      "cell_type": "markdown",
      "metadata": {
        "id": "rogYuiYFNcH0"
      },
      "source": [
        "### Preprocessing"
      ]
    },
    {
      "cell_type": "code",
      "metadata": {
        "id": "iRsjGN34NNqS"
      },
      "source": [
        "import pandas as pd\n",
        "import seaborn as sns\n",
        "import matplotlib.pyplot as plt"
      ],
      "execution_count": null,
      "outputs": []
    },
    {
      "cell_type": "code",
      "metadata": {
        "id": "yT9UeO-ALkoi"
      },
      "source": [
        "mbti_data = pd.read_csv('mbti.csv')\n",
        "mbti_data.drop(['stat','enneagram','img_url'], axis=1, inplace=True)"
      ],
      "execution_count": null,
      "outputs": []
    },
    {
      "cell_type": "code",
      "metadata": {
        "colab": {
          "base_uri": "https://localhost:8080/",
          "height": 206
        },
        "id": "rT59MjoJMs5U",
        "outputId": "59830b37-c630-4eb4-bcd6-ed83924d2f54"
      },
      "source": [
        "mbti_data.head()"
      ],
      "execution_count": null,
      "outputs": [
        {
          "output_type": "execute_result",
          "data": {
            "text/html": [
              "<div>\n",
              "<style scoped>\n",
              "    .dataframe tbody tr th:only-of-type {\n",
              "        vertical-align: middle;\n",
              "    }\n",
              "\n",
              "    .dataframe tbody tr th {\n",
              "        vertical-align: top;\n",
              "    }\n",
              "\n",
              "    .dataframe thead th {\n",
              "        text-align: right;\n",
              "    }\n",
              "</style>\n",
              "<table border=\"1\" class=\"dataframe\">\n",
              "  <thead>\n",
              "    <tr style=\"text-align: right;\">\n",
              "      <th></th>\n",
              "      <th>mbti</th>\n",
              "      <th>role</th>\n",
              "      <th>movie</th>\n",
              "    </tr>\n",
              "  </thead>\n",
              "  <tbody>\n",
              "    <tr>\n",
              "      <th>0</th>\n",
              "      <td>ESFP</td>\n",
              "      <td>Peter Quill \"Star-Lord\"</td>\n",
              "      <td>Marvel Cinematic Universe</td>\n",
              "    </tr>\n",
              "    <tr>\n",
              "      <th>1</th>\n",
              "      <td>ESFP</td>\n",
              "      <td>Anakin Skywalker</td>\n",
              "      <td>Star Wars</td>\n",
              "    </tr>\n",
              "    <tr>\n",
              "      <th>2</th>\n",
              "      <td>ESFP</td>\n",
              "      <td>Ron Weasley</td>\n",
              "      <td>Harry Potter (franchise)</td>\n",
              "    </tr>\n",
              "    <tr>\n",
              "      <th>3</th>\n",
              "      <td>ESFP</td>\n",
              "      <td>Bellatrix Lestrange</td>\n",
              "      <td>Harry Potter (franchise)</td>\n",
              "    </tr>\n",
              "    <tr>\n",
              "      <th>4</th>\n",
              "      <td>ESFP</td>\n",
              "      <td>Simba</td>\n",
              "      <td>The Lion King (1994)</td>\n",
              "    </tr>\n",
              "  </tbody>\n",
              "</table>\n",
              "</div>"
            ],
            "text/plain": [
              "   mbti                     role                         movie\n",
              "0  ESFP  Peter Quill \"Star-Lord\"     Marvel Cinematic Universe\n",
              "1  ESFP         Anakin Skywalker                     Star Wars\n",
              "2  ESFP              Ron Weasley      Harry Potter (franchise)\n",
              "3  ESFP      Bellatrix Lestrange      Harry Potter (franchise)\n",
              "4  ESFP                    Simba          The Lion King (1994)"
            ]
          },
          "metadata": {},
          "execution_count": 3
        }
      ]
    },
    {
      "cell_type": "code",
      "metadata": {
        "colab": {
          "base_uri": "https://localhost:8080/",
          "height": 175
        },
        "id": "HmzqbJFzM_Tt",
        "outputId": "e16b6fea-36da-4616-d34a-69664180b247"
      },
      "source": [
        "mbti_data.describe()"
      ],
      "execution_count": null,
      "outputs": [
        {
          "output_type": "execute_result",
          "data": {
            "text/html": [
              "<div>\n",
              "<style scoped>\n",
              "    .dataframe tbody tr th:only-of-type {\n",
              "        vertical-align: middle;\n",
              "    }\n",
              "\n",
              "    .dataframe tbody tr th {\n",
              "        vertical-align: top;\n",
              "    }\n",
              "\n",
              "    .dataframe thead th {\n",
              "        text-align: right;\n",
              "    }\n",
              "</style>\n",
              "<table border=\"1\" class=\"dataframe\">\n",
              "  <thead>\n",
              "    <tr style=\"text-align: right;\">\n",
              "      <th></th>\n",
              "      <th>mbti</th>\n",
              "      <th>role</th>\n",
              "      <th>movie</th>\n",
              "    </tr>\n",
              "  </thead>\n",
              "  <tbody>\n",
              "    <tr>\n",
              "      <th>count</th>\n",
              "      <td>18741</td>\n",
              "      <td>18741</td>\n",
              "      <td>18741</td>\n",
              "    </tr>\n",
              "    <tr>\n",
              "      <th>unique</th>\n",
              "      <td>17</td>\n",
              "      <td>15254</td>\n",
              "      <td>3150</td>\n",
              "    </tr>\n",
              "    <tr>\n",
              "      <th>top</th>\n",
              "      <td>ESTP</td>\n",
              "      <td>Ben</td>\n",
              "      <td>Star Wars</td>\n",
              "    </tr>\n",
              "    <tr>\n",
              "      <th>freq</th>\n",
              "      <td>1578</td>\n",
              "      <td>18</td>\n",
              "      <td>207</td>\n",
              "    </tr>\n",
              "  </tbody>\n",
              "</table>\n",
              "</div>"
            ],
            "text/plain": [
              "         mbti   role         movie\n",
              "count   18741  18741         18741\n",
              "unique     17  15254          3150\n",
              "top      ESTP    Ben     Star Wars\n",
              "freq     1578     18           207"
            ]
          },
          "metadata": {},
          "execution_count": 4
        }
      ]
    },
    {
      "cell_type": "code",
      "metadata": {
        "colab": {
          "base_uri": "https://localhost:8080/"
        },
        "id": "5fdw0CIZNIAg",
        "outputId": "79ea54af-5a16-4137-875e-6603bdcfd313"
      },
      "source": [
        "mbti_data.isnull().sum()"
      ],
      "execution_count": null,
      "outputs": [
        {
          "output_type": "execute_result",
          "data": {
            "text/plain": [
              "mbti     0\n",
              "role     0\n",
              "movie    0\n",
              "dtype: int64"
            ]
          },
          "metadata": {},
          "execution_count": 5
        }
      ]
    },
    {
      "cell_type": "code",
      "metadata": {
        "colab": {
          "base_uri": "https://localhost:8080/"
        },
        "id": "GThMUb09RHPv",
        "outputId": "da7b7194-5550-4fa9-9673-78f3807c01c4"
      },
      "source": [
        "mbti_data.mbti.unique()"
      ],
      "execution_count": null,
      "outputs": [
        {
          "output_type": "execute_result",
          "data": {
            "text/plain": [
              "array(['ESFP', 'XXXX', 'ESFJ', 'ESTP', 'ESTJ', 'ENFP', 'ENFJ', 'ENTP',\n",
              "       'ENTJ', 'ISFP', 'ISFJ', 'ISTP', 'ISTJ', 'INFP', 'INFJ', 'INTP',\n",
              "       'INTJ'], dtype=object)"
            ]
          },
          "metadata": {},
          "execution_count": 6
        }
      ]
    },
    {
      "cell_type": "markdown",
      "metadata": {
        "id": "RdMCcS9QRt3_"
      },
      "source": [
        "XXXX는 특정 지을 수 없는 mbti이므로 삭제"
      ]
    },
    {
      "cell_type": "code",
      "metadata": {
        "id": "xw4Zg9jfQ4al"
      },
      "source": [
        "mbti_data = mbti_data.loc[mbti_data.mbti != 'XXXX']"
      ],
      "execution_count": null,
      "outputs": []
    },
    {
      "cell_type": "code",
      "source": [
        "mbti_data.drop_duplicates(['role'], inplace=True) # role 중복 제거"
      ],
      "metadata": {
        "id": "S6zLq7Bu0B9v"
      },
      "execution_count": null,
      "outputs": []
    },
    {
      "cell_type": "markdown",
      "metadata": {
        "id": "QFHMS02xNYS6"
      },
      "source": [
        "### Visualization"
      ]
    },
    {
      "cell_type": "code",
      "metadata": {
        "id": "0Sg9oKd1PdMr"
      },
      "source": [
        "sns.set(style='darkgrid')\n",
        "plt.rcParams[\"figure.figsize\"] = (12, 9)"
      ],
      "execution_count": null,
      "outputs": []
    },
    {
      "cell_type": "code",
      "metadata": {
        "colab": {
          "base_uri": "https://localhost:8080/",
          "height": 557
        },
        "id": "3lVz_JqpN2Xb",
        "outputId": "664cc785-5842-4e7f-b51d-d9f32257f568"
      },
      "source": [
        "sns.countplot(x='mbti', data=mbti_data)\n",
        "plt.show()"
      ],
      "execution_count": null,
      "outputs": [
        {
          "output_type": "display_data",
          "data": {
            "image/png": "[encoded data removed]",
            "text/plain": [
              "<Figure size 864x648 with 1 Axes>"
            ]
          },
          "metadata": {}
        }
      ]
    },
    {
      "cell_type": "code",
      "metadata": {
        "id": "ewlmudYxApDE"
      },
      "source": [
        "mbti_data['movie'] = mbti_data['movie'].str.lstrip() # 공백 제거"
      ],
      "execution_count": null,
      "outputs": []
    },
    {
      "cell_type": "markdown",
      "metadata": {
        "id": "uwb9ZUZDL2NJ"
      },
      "source": [
        "## OTT Data"
      ]
    },
    {
      "cell_type": "code",
      "metadata": {
        "id": "ew4oIRaML4Uy"
      },
      "source": [
        "import pandas as pd\n",
        "import seaborn as sns\n",
        "import matplotlib.pyplot as plt\n",
        "import numpy as np"
      ],
      "execution_count": null,
      "outputs": []
    },
    {
      "cell_type": "code",
      "metadata": {
        "id": "ESCNLbqSY07r"
      },
      "source": [
        "movie_data = pd.read_csv('OTTMovie.csv')\n",
        "movie_data.drop(['ID', 'Year', 'Age', 'Type', 'Directors', 'Country', 'Language', 'Runtime' ], axis=1, inplace=True)"
      ],
      "execution_count": null,
      "outputs": []
    },
    {
      "cell_type": "code",
      "metadata": {
        "id": "FXF-QMhKIOsi",
        "colab": {
          "base_uri": "https://localhost:8080/",
          "height": 424
        },
        "outputId": "bacf4d44-ee4d-47be-d1e4-661a223ca20d"
      },
      "source": [
        "movie_data"
      ],
      "execution_count": null,
      "outputs": [
        {
          "output_type": "execute_result",
          "data": {
            "text/html": [
              "<div>\n",
              "<style scoped>\n",
              "    .dataframe tbody tr th:only-of-type {\n",
              "        vertical-align: middle;\n",
              "    }\n",
              "\n",
              "    .dataframe tbody tr th {\n",
              "        vertical-align: top;\n",
              "    }\n",
              "\n",
              "    .dataframe thead th {\n",
              "        text-align: right;\n",
              "    }\n",
              "</style>\n",
              "<table border=\"1\" class=\"dataframe\">\n",
              "  <thead>\n",
              "    <tr style=\"text-align: right;\">\n",
              "      <th></th>\n",
              "      <th>Unnamed: 0</th>\n",
              "      <th>Title</th>\n",
              "      <th>IMDb</th>\n",
              "      <th>Rotten Tomatoes</th>\n",
              "      <th>Netflix</th>\n",
              "      <th>Hulu</th>\n",
              "      <th>Prime Video</th>\n",
              "      <th>Disney+</th>\n",
              "      <th>Genres</th>\n",
              "    </tr>\n",
              "  </thead>\n",
              "  <tbody>\n",
              "    <tr>\n",
              "      <th>0</th>\n",
              "      <td>0</td>\n",
              "      <td>The Irishman</td>\n",
              "      <td>7.8/10</td>\n",
              "      <td>98/100</td>\n",
              "      <td>1</td>\n",
              "      <td>0</td>\n",
              "      <td>0</td>\n",
              "      <td>0</td>\n",
              "      <td>Biography,Crime,Drama</td>\n",
              "    </tr>\n",
              "    <tr>\n",
              "      <th>1</th>\n",
              "      <td>1</td>\n",
              "      <td>Dangal</td>\n",
              "      <td>8.4/10</td>\n",
              "      <td>97/100</td>\n",
              "      <td>1</td>\n",
              "      <td>0</td>\n",
              "      <td>0</td>\n",
              "      <td>0</td>\n",
              "      <td>Action,Biography,Drama,Sport</td>\n",
              "    </tr>\n",
              "    <tr>\n",
              "      <th>2</th>\n",
              "      <td>2</td>\n",
              "      <td>David Attenborough: A Life on Our Planet</td>\n",
              "      <td>9.0/10</td>\n",
              "      <td>95/100</td>\n",
              "      <td>1</td>\n",
              "      <td>0</td>\n",
              "      <td>0</td>\n",
              "      <td>0</td>\n",
              "      <td>Documentary,Biography</td>\n",
              "    </tr>\n",
              "    <tr>\n",
              "      <th>3</th>\n",
              "      <td>3</td>\n",
              "      <td>Lagaan: Once Upon a Time in India</td>\n",
              "      <td>8.1/10</td>\n",
              "      <td>94/100</td>\n",
              "      <td>1</td>\n",
              "      <td>0</td>\n",
              "      <td>0</td>\n",
              "      <td>0</td>\n",
              "      <td>Drama,Musical,Sport</td>\n",
              "    </tr>\n",
              "    <tr>\n",
              "      <th>4</th>\n",
              "      <td>4</td>\n",
              "      <td>Roma</td>\n",
              "      <td>7.7/10</td>\n",
              "      <td>94/100</td>\n",
              "      <td>1</td>\n",
              "      <td>0</td>\n",
              "      <td>0</td>\n",
              "      <td>0</td>\n",
              "      <td>Action,Drama,History,Romance,War</td>\n",
              "    </tr>\n",
              "    <tr>\n",
              "      <th>...</th>\n",
              "      <td>...</td>\n",
              "      <td>...</td>\n",
              "      <td>...</td>\n",
              "      <td>...</td>\n",
              "      <td>...</td>\n",
              "      <td>...</td>\n",
              "      <td>...</td>\n",
              "      <td>...</td>\n",
              "      <td>...</td>\n",
              "    </tr>\n",
              "    <tr>\n",
              "      <th>9510</th>\n",
              "      <td>9510</td>\n",
              "      <td>Most Wanted Sharks</td>\n",
              "      <td>NaN</td>\n",
              "      <td>14/100</td>\n",
              "      <td>0</td>\n",
              "      <td>0</td>\n",
              "      <td>0</td>\n",
              "      <td>1</td>\n",
              "      <td>Crime,Reality-TV</td>\n",
              "    </tr>\n",
              "    <tr>\n",
              "      <th>9511</th>\n",
              "      <td>9511</td>\n",
              "      <td>Doc McStuffins: The Doc Is In</td>\n",
              "      <td>NaN</td>\n",
              "      <td>13/100</td>\n",
              "      <td>0</td>\n",
              "      <td>0</td>\n",
              "      <td>0</td>\n",
              "      <td>1</td>\n",
              "      <td>Animation</td>\n",
              "    </tr>\n",
              "    <tr>\n",
              "      <th>9512</th>\n",
              "      <td>9512</td>\n",
              "      <td>Ultimate Viking Sword</td>\n",
              "      <td>NaN</td>\n",
              "      <td>13/100</td>\n",
              "      <td>0</td>\n",
              "      <td>0</td>\n",
              "      <td>0</td>\n",
              "      <td>1</td>\n",
              "      <td>NaN</td>\n",
              "    </tr>\n",
              "    <tr>\n",
              "      <th>9513</th>\n",
              "      <td>9513</td>\n",
              "      <td>Hunt for the Abominable Snowman</td>\n",
              "      <td>NaN</td>\n",
              "      <td>10/100</td>\n",
              "      <td>0</td>\n",
              "      <td>0</td>\n",
              "      <td>0</td>\n",
              "      <td>1</td>\n",
              "      <td>Drama,History</td>\n",
              "    </tr>\n",
              "    <tr>\n",
              "      <th>9514</th>\n",
              "      <td>9514</td>\n",
              "      <td>Women of Impact: Changing the World</td>\n",
              "      <td>NaN</td>\n",
              "      <td>10/100</td>\n",
              "      <td>0</td>\n",
              "      <td>0</td>\n",
              "      <td>0</td>\n",
              "      <td>1</td>\n",
              "      <td>Documentary</td>\n",
              "    </tr>\n",
              "  </tbody>\n",
              "</table>\n",
              "<p>9515 rows × 9 columns</p>\n",
              "</div>"
            ],
            "text/plain": [
              "      Unnamed: 0  ...                            Genres\n",
              "0              0  ...             Biography,Crime,Drama\n",
              "1              1  ...      Action,Biography,Drama,Sport\n",
              "2              2  ...             Documentary,Biography\n",
              "3              3  ...               Drama,Musical,Sport\n",
              "4              4  ...  Action,Drama,History,Romance,War\n",
              "...          ...  ...                               ...\n",
              "9510        9510  ...                  Crime,Reality-TV\n",
              "9511        9511  ...                         Animation\n",
              "9512        9512  ...                               NaN\n",
              "9513        9513  ...                     Drama,History\n",
              "9514        9514  ...                       Documentary\n",
              "\n",
              "[9515 rows x 9 columns]"
            ]
          },
          "metadata": {},
          "execution_count": 14
        }
      ]
    },
    {
      "cell_type": "code",
      "metadata": {
        "id": "wzXsubldIOUG"
      },
      "source": [
        "movie_data.drop(['Unnamed: 0'], axis=1, inplace=True)"
      ],
      "execution_count": null,
      "outputs": []
    },
    {
      "cell_type": "code",
      "metadata": {
        "colab": {
          "base_uri": "https://localhost:8080/"
        },
        "id": "D5OsAh_haDWq",
        "outputId": "f5d4679f-56b5-4d18-a3df-f403c0f57d9a"
      },
      "source": [
        "movie_data.info()"
      ],
      "execution_count": null,
      "outputs": [
        {
          "output_type": "stream",
          "name": "stdout",
          "text": [
            "<class 'pandas.core.frame.DataFrame'>\n",
            "RangeIndex: 9515 entries, 0 to 9514\n",
            "Data columns (total 8 columns):\n",
            " #   Column           Non-Null Count  Dtype \n",
            "---  ------           --------------  ----- \n",
            " 0   Title            9515 non-null   object\n",
            " 1   IMDb             9309 non-null   object\n",
            " 2   Rotten Tomatoes  9508 non-null   object\n",
            " 3   Netflix          9515 non-null   int64 \n",
            " 4   Hulu             9515 non-null   int64 \n",
            " 5   Prime Video      9515 non-null   int64 \n",
            " 6   Disney+          9515 non-null   int64 \n",
            " 7   Genres           9399 non-null   object\n",
            "dtypes: int64(4), object(4)\n",
            "memory usage: 594.8+ KB\n"
          ]
        }
      ]
    },
    {
      "cell_type": "code",
      "metadata": {
        "id": "JD9MzbB_aGsT"
      },
      "source": [
        "NNmovie_data = movie_data.dropna(axis=0, how='any')"
      ],
      "execution_count": null,
      "outputs": []
    },
    {
      "cell_type": "code",
      "source": [
        "NNmovie_data.info()"
      ],
      "metadata": {
        "colab": {
          "base_uri": "https://localhost:8080/"
        },
        "id": "8qjwKowbO5rk",
        "outputId": "f1dd2611-2de9-4799-89f1-70d0294715e7"
      },
      "execution_count": null,
      "outputs": [
        {
          "output_type": "stream",
          "name": "stdout",
          "text": [
            "<class 'pandas.core.frame.DataFrame'>\n",
            "Int64Index: 9252 entries, 0 to 9501\n",
            "Data columns (total 8 columns):\n",
            " #   Column           Non-Null Count  Dtype \n",
            "---  ------           --------------  ----- \n",
            " 0   Title            9252 non-null   object\n",
            " 1   IMDb             9252 non-null   object\n",
            " 2   Rotten Tomatoes  9252 non-null   object\n",
            " 3   Netflix          9252 non-null   int64 \n",
            " 4   Hulu             9252 non-null   int64 \n",
            " 5   Prime Video      9252 non-null   int64 \n",
            " 6   Disney+          9252 non-null   int64 \n",
            " 7   Genres           9252 non-null   object\n",
            "dtypes: int64(4), object(4)\n",
            "memory usage: 650.5+ KB\n"
          ]
        }
      ]
    },
    {
      "cell_type": "code",
      "source": [
        "NNmovie_data['IMDb'] = NNmovie_data['IMDb'].str[0:3:2]\n",
        "NNmovie_data['Rotten Tomatoes'] = NNmovie_data['Rotten Tomatoes'].str[:2]\n",
        "NNmovie_data['IMDb'] = NNmovie_data['IMDb'].astype('int64')\n",
        "NNmovie_data['Rotten Tomatoes'] = NNmovie_data['Rotten Tomatoes'].astype('int64')"
      ],
      "metadata": {
        "colab": {
          "base_uri": "https://localhost:8080/"
        },
        "id": "XSAB6gcSPFBk",
        "outputId": "34e81496-c947-4a3d-df92-2a2e3e24127d"
      },
      "execution_count": null,
      "outputs": [
        {
          "output_type": "stream",
          "name": "stderr",
          "text": [
            "/usr/local/lib/python3.7/dist-packages/ipykernel_launcher.py:1: SettingWithCopyWarning: \n",
            "A value is trying to be set on a copy of a slice from a DataFrame.\n",
            "Try using .loc[row_indexer,col_indexer] = value instead\n",
            "\n",
            "See the caveats in the documentation: https://pandas.pydata.org/pandas-docs/stable/user_guide/indexing.html#returning-a-view-versus-a-copy\n",
            "  \"\"\"Entry point for launching an IPython kernel.\n",
            "/usr/local/lib/python3.7/dist-packages/ipykernel_launcher.py:2: SettingWithCopyWarning: \n",
            "A value is trying to be set on a copy of a slice from a DataFrame.\n",
            "Try using .loc[row_indexer,col_indexer] = value instead\n",
            "\n",
            "See the caveats in the documentation: https://pandas.pydata.org/pandas-docs/stable/user_guide/indexing.html#returning-a-view-versus-a-copy\n",
            "  \n",
            "/usr/local/lib/python3.7/dist-packages/ipykernel_launcher.py:3: SettingWithCopyWarning: \n",
            "A value is trying to be set on a copy of a slice from a DataFrame.\n",
            "Try using .loc[row_indexer,col_indexer] = value instead\n",
            "\n",
            "See the caveats in the documentation: https://pandas.pydata.org/pandas-docs/stable/user_guide/indexing.html#returning-a-view-versus-a-copy\n",
            "  This is separate from the ipykernel package so we can avoid doing imports until\n",
            "/usr/local/lib/python3.7/dist-packages/ipykernel_launcher.py:4: SettingWithCopyWarning: \n",
            "A value is trying to be set on a copy of a slice from a DataFrame.\n",
            "Try using .loc[row_indexer,col_indexer] = value instead\n",
            "\n",
            "See the caveats in the documentation: https://pandas.pydata.org/pandas-docs/stable/user_guide/indexing.html#returning-a-view-versus-a-copy\n",
            "  after removing the cwd from sys.path.\n"
          ]
        }
      ]
    },
    {
      "cell_type": "code",
      "source": [
        "NNmovie_data.info()"
      ],
      "metadata": {
        "colab": {
          "base_uri": "https://localhost:8080/"
        },
        "id": "4x7Ygo7pPIwp",
        "outputId": "bb34853c-7a08-4eb3-f811-2e696e0ef16a"
      },
      "execution_count": null,
      "outputs": [
        {
          "output_type": "stream",
          "name": "stdout",
          "text": [
            "<class 'pandas.core.frame.DataFrame'>\n",
            "Int64Index: 9252 entries, 0 to 9501\n",
            "Data columns (total 8 columns):\n",
            " #   Column           Non-Null Count  Dtype \n",
            "---  ------           --------------  ----- \n",
            " 0   Title            9252 non-null   object\n",
            " 1   IMDb             9252 non-null   int64 \n",
            " 2   Rotten Tomatoes  9252 non-null   int64 \n",
            " 3   Netflix          9252 non-null   int64 \n",
            " 4   Hulu             9252 non-null   int64 \n",
            " 5   Prime Video      9252 non-null   int64 \n",
            " 6   Disney+          9252 non-null   int64 \n",
            " 7   Genres           9252 non-null   object\n",
            "dtypes: int64(6), object(2)\n",
            "memory usage: 650.5+ KB\n"
          ]
        }
      ]
    },
    {
      "cell_type": "code",
      "metadata": {
        "id": "TxDSP0T-KI1M"
      },
      "source": [
        "movie_data2 = pd.melt(NNmovie_data, id_vars=['Title', 'IMDb', 'Rotten Tomatoes', 'Genres'], var_name=\"OTT\")\n",
        "movie_data2 = movie_data2[movie_data2.value==1]\n",
        "movie_data2.drop(['value'], axis=1, inplace=True)"
      ],
      "execution_count": null,
      "outputs": []
    },
    {
      "cell_type": "code",
      "metadata": {
        "colab": {
          "base_uri": "https://localhost:8080/",
          "height": 557
        },
        "id": "kRS-sqCpKUbb",
        "outputId": "b7aaa948-4f98-4ec6-9c16-5d4f5f2ed74b"
      },
      "source": [
        "sns.set(style='darkgrid')\n",
        "plt.rcParams[\"figure.figsize\"] = (12, 9)\n",
        "sns.countplot(x='OTT', data=movie_data2)\n",
        "plt.show()"
      ],
      "execution_count": null,
      "outputs": [
        {
          "output_type": "display_data",
          "data": {
            "image/png": "[encoded data removed]",
            "text/plain": [
              "<Figure size 864x648 with 1 Axes>"
            ]
          },
          "metadata": {}
        }
      ]
    },
    {
      "cell_type": "code",
      "metadata": {
        "colab": {
          "base_uri": "https://localhost:8080/",
          "height": 221
        },
        "id": "t_SYyKxBKb8Q",
        "outputId": "0b63fa18-5ecd-47de-92df-9946d7797da9"
      },
      "source": [
        "grid = sns.FacetGrid(movie_data2, col=\"OTT\")\n",
        "grid.map_dataframe(sns.histplot, x=\"IMDb\")\n",
        "plt.show()"
      ],
      "execution_count": null,
      "outputs": [
        {
          "output_type": "display_data",
          "data": {
            "image/png": "[encoded data removed]",
            "text/plain": [
              "<Figure size 864x216 with 4 Axes>"
            ]
          },
          "metadata": {}
        }
      ]
    },
    {
      "cell_type": "code",
      "metadata": {
        "colab": {
          "base_uri": "https://localhost:8080/",
          "height": 221
        },
        "id": "to-qBxD0K3Nn",
        "outputId": "2cf39bf7-351e-472f-a53f-3e10ac151bc6"
      },
      "source": [
        "grid = sns.FacetGrid(movie_data2, col=\"OTT\")\n",
        "grid.map_dataframe(sns.histplot, x=\"Rotten Tomatoes\")\n",
        "plt.show()"
      ],
      "execution_count": null,
      "outputs": [
        {
          "output_type": "display_data",
          "data": {
            "image/png": "[encoded data removed]",
            "text/plain": [
              "<Figure size 864x216 with 4 Axes>"
            ]
          },
          "metadata": {}
        }
      ]
    },
    {
      "cell_type": "code",
      "metadata": {
        "id": "_rBRE8hcEtv_"
      },
      "source": [
        "grid = movie_data2['Genres'].str.split(',').apply(pd.Series,1).stack()\n",
        "grid.index = grid.index.droplevel(-1)\n",
        "grid.name = 'Genres'\n",
        "del movie_data2['Genres']\n",
        "genres_data = movie_data2.join(grid)"
      ],
      "execution_count": null,
      "outputs": []
    },
    {
      "cell_type": "code",
      "source": [
        "genres_data"
      ],
      "metadata": {
        "colab": {
          "base_uri": "https://localhost:8080/",
          "height": 424
        },
        "id": "IFCOLI8moGIE",
        "outputId": "fc50d1e6-d91a-4cf8-b519-820cc5c0a0da"
      },
      "execution_count": null,
      "outputs": [
        {
          "output_type": "execute_result",
          "data": {
            "text/html": [
              "<div>\n",
              "<style scoped>\n",
              "    .dataframe tbody tr th:only-of-type {\n",
              "        vertical-align: middle;\n",
              "    }\n",
              "\n",
              "    .dataframe tbody tr th {\n",
              "        vertical-align: top;\n",
              "    }\n",
              "\n",
              "    .dataframe thead th {\n",
              "        text-align: right;\n",
              "    }\n",
              "</style>\n",
              "<table border=\"1\" class=\"dataframe\">\n",
              "  <thead>\n",
              "    <tr style=\"text-align: right;\">\n",
              "      <th></th>\n",
              "      <th>Title</th>\n",
              "      <th>IMDb</th>\n",
              "      <th>Rotten Tomatoes</th>\n",
              "      <th>OTT</th>\n",
              "      <th>Genres</th>\n",
              "    </tr>\n",
              "  </thead>\n",
              "  <tbody>\n",
              "    <tr>\n",
              "      <th>0</th>\n",
              "      <td>The Irishman</td>\n",
              "      <td>78</td>\n",
              "      <td>98</td>\n",
              "      <td>Netflix</td>\n",
              "      <td>Biography</td>\n",
              "    </tr>\n",
              "    <tr>\n",
              "      <th>0</th>\n",
              "      <td>The Irishman</td>\n",
              "      <td>78</td>\n",
              "      <td>98</td>\n",
              "      <td>Netflix</td>\n",
              "      <td>Crime</td>\n",
              "    </tr>\n",
              "    <tr>\n",
              "      <th>0</th>\n",
              "      <td>The Irishman</td>\n",
              "      <td>78</td>\n",
              "      <td>98</td>\n",
              "      <td>Netflix</td>\n",
              "      <td>Drama</td>\n",
              "    </tr>\n",
              "    <tr>\n",
              "      <th>1</th>\n",
              "      <td>Dangal</td>\n",
              "      <td>84</td>\n",
              "      <td>97</td>\n",
              "      <td>Netflix</td>\n",
              "      <td>Action</td>\n",
              "    </tr>\n",
              "    <tr>\n",
              "      <th>1</th>\n",
              "      <td>Dangal</td>\n",
              "      <td>84</td>\n",
              "      <td>97</td>\n",
              "      <td>Netflix</td>\n",
              "      <td>Biography</td>\n",
              "    </tr>\n",
              "    <tr>\n",
              "      <th>...</th>\n",
              "      <td>...</td>\n",
              "      <td>...</td>\n",
              "      <td>...</td>\n",
              "      <td>...</td>\n",
              "      <td>...</td>\n",
              "    </tr>\n",
              "    <tr>\n",
              "      <th>37003</th>\n",
              "      <td>Disney Channel Halloween House Party</td>\n",
              "      <td>53</td>\n",
              "      <td>33</td>\n",
              "      <td>Disney+</td>\n",
              "      <td>Musical</td>\n",
              "    </tr>\n",
              "    <tr>\n",
              "      <th>37004</th>\n",
              "      <td>Earth Live</td>\n",
              "      <td>52</td>\n",
              "      <td>33</td>\n",
              "      <td>Disney+</td>\n",
              "      <td>Documentary</td>\n",
              "    </tr>\n",
              "    <tr>\n",
              "      <th>37005</th>\n",
              "      <td>Wild Uganda</td>\n",
              "      <td>75</td>\n",
              "      <td>32</td>\n",
              "      <td>Disney+</td>\n",
              "      <td>Documentary</td>\n",
              "    </tr>\n",
              "    <tr>\n",
              "      <th>37006</th>\n",
              "      <td>Challenge Accepted! Disney Channel's Epic Holi...</td>\n",
              "      <td>39</td>\n",
              "      <td>32</td>\n",
              "      <td>Disney+</td>\n",
              "      <td>Musical</td>\n",
              "    </tr>\n",
              "    <tr>\n",
              "      <th>37007</th>\n",
              "      <td>Sharks of the Bermuda Triangle</td>\n",
              "      <td>65</td>\n",
              "      <td>31</td>\n",
              "      <td>Disney+</td>\n",
              "      <td>Documentary</td>\n",
              "    </tr>\n",
              "  </tbody>\n",
              "</table>\n",
              "<p>24643 rows × 5 columns</p>\n",
              "</div>"
            ],
            "text/plain": [
              "                                                   Title  ...       Genres\n",
              "0                                           The Irishman  ...    Biography\n",
              "0                                           The Irishman  ...        Crime\n",
              "0                                           The Irishman  ...        Drama\n",
              "1                                                 Dangal  ...       Action\n",
              "1                                                 Dangal  ...    Biography\n",
              "...                                                  ...  ...          ...\n",
              "37003               Disney Channel Halloween House Party  ...      Musical\n",
              "37004                                         Earth Live  ...  Documentary\n",
              "37005                                        Wild Uganda  ...  Documentary\n",
              "37006  Challenge Accepted! Disney Channel's Epic Holi...  ...      Musical\n",
              "37007                     Sharks of the Bermuda Triangle  ...  Documentary\n",
              "\n",
              "[24643 rows x 5 columns]"
            ]
          },
          "metadata": {},
          "execution_count": 26
        }
      ]
    },
    {
      "cell_type": "markdown",
      "metadata": {
        "id": "vPpPt30cEtKA"
      },
      "source": [
        "# 2. 데이터 간 합치기"
      ]
    },
    {
      "cell_type": "code",
      "metadata": {
        "id": "1r0qoAGG_YXb",
        "colab": {
          "base_uri": "https://localhost:8080/"
        },
        "outputId": "5618ca00-dbe2-4cd4-8597-40fa0db79fdb"
      },
      "source": [
        "for title in genres_data['Title'].unique():\n",
        "  if title.startswith('Pokémon'):\n",
        "    print(title)"
      ],
      "execution_count": null,
      "outputs": [
        {
          "output_type": "stream",
          "name": "stdout",
          "text": [
            "Pokémon the Movie: The Power of Us\n",
            "Pokémon the Movie: I Choose You!\n",
            "Pokémon: Mewtwo Strikes Back - Evolution\n",
            "Pokémon the Movie: Hoopa and the Clash of Ages\n",
            "Pokémon the Movie: Volcanion and the Mechanical Marvel\n",
            "Pokémon the Movie: Diancie and the Cocoon of Destruction\n"
          ]
        }
      ]
    },
    {
      "cell_type": "code",
      "metadata": {
        "id": "sFXuUjLo_2tL",
        "colab": {
          "base_uri": "https://localhost:8080/"
        },
        "outputId": "3dcc4695-39de-4e76-848e-cccba1d6d0b0"
      },
      "source": [
        "for title in mbti_data['movie'].unique():\n",
        "  if title.startswith('Pokémon'):\n",
        "    print(title)"
      ],
      "execution_count": null,
      "outputs": [
        {
          "output_type": "stream",
          "name": "stdout",
          "text": [
            "Pokémon: Detective Pikachu (2019)\n"
          ]
        }
      ]
    },
    {
      "cell_type": "code",
      "source": [
        "mbti_data.groupby('movie').role.count().sort_values(ascending=False)[:30]"
      ],
      "metadata": {
        "id": "JTUCXM2BwWYk",
        "colab": {
          "base_uri": "https://localhost:8080/"
        },
        "outputId": "b4a782a5-3e41-4eae-8020-df40b7905baf"
      },
      "execution_count": null,
      "outputs": [
        {
          "output_type": "execute_result",
          "data": {
            "text/plain": [
              "movie\n",
              "Star Wars                                  176\n",
              "Marvel Cinematic Universe                  172\n",
              "James Bond                                  92\n",
              "Harry Potter (franchise)                    82\n",
              "Toy Story (Franchise)                       71\n",
              "Jurassic Park / Jurassic World              54\n",
              "DC Extended Universe                        53\n",
              "The Fast and the Furious                    43\n",
              "Transformers (Bayverse)                     42\n",
              "The Shawshank Redemption (1994)             39\n",
              "X-Men Cinematic Universe (2011-2020)        38\n",
              "The Lord of the Rings                       37\n",
              "The Dark Knight Trilogy                     36\n",
              "Pirates of the Caribbean                    35\n",
              "Twilight                                    34\n",
              "Terminator                                  33\n",
              "Godzilla                                    32\n",
              "The Hobbit                                  31\n",
              "The Godfather                               31\n",
              "The Hunger Games                            30\n",
              "Saw (2004)                                  30\n",
              "Madagascar (Franchise)                      29\n",
              "Alien                                       29\n",
              "Mission: Impossible                         29\n",
              "DC Animated Movie Universe                  28\n",
              "Ghostbusters (1984)                         28\n",
              "The Texas Chainsaw Massacre (Franchise)     27\n",
              "Trolls World Tour                           26\n",
              "The Red Balloon (1956)                      25\n",
              "The Matrix Trilogy (The Matrix)             25\n",
              "Name: role, dtype: int64"
            ]
          },
          "metadata": {},
          "execution_count": 29
        }
      ]
    },
    {
      "cell_type": "code",
      "source": [
        "same = set(mbti_data.movie.unique()) & set(genres_data.Title.unique())"
      ],
      "metadata": {
        "id": "n1mj2GYuwE44"
      },
      "execution_count": null,
      "outputs": []
    },
    {
      "cell_type": "code",
      "source": [
        "checklist = [a for a in mbti_data.movie.unique() if a not in same] # mbti 영화 데이터 중에 겹치지 않는 영화 제목 리스트"
      ],
      "metadata": {
        "id": "Wp9rNOvz6NiI"
      },
      "execution_count": null,
      "outputs": []
    },
    {
      "cell_type": "code",
      "source": [
        "real = dict()\n",
        "for fix in mbti_data.movie.unique():\n",
        "  movs = []\n",
        "  for title in genres_data.Title.unique():\n",
        "    if title.startswith(fix):\n",
        "      movs.append(title)\n",
        "    real[fix] = movs"
      ],
      "metadata": {
        "id": "g5dpkyIe1Z4f"
      },
      "execution_count": null,
      "outputs": []
    },
    {
      "cell_type": "code",
      "source": [
        "real = {key: value for key, value in real.items() if value != []}"
      ],
      "metadata": {
        "id": "z5UpmVZk2cmw"
      },
      "execution_count": null,
      "outputs": []
    },
    {
      "cell_type": "code",
      "source": [
        "real"
      ],
      "metadata": {
        "id": "fwTBo9dwAUii",
        "colab": {
          "base_uri": "https://localhost:8080/"
        },
        "outputId": "3e8c06b8-7420-480d-bc79-53bd5e07af3a"
      },
      "execution_count": null,
      "outputs": [
        {
          "output_type": "execute_result",
          "data": {
            "text/plain": [
              "{'#Alive': ['#Alive'],\n",
              " 'A Christmas Princess': ['A Christmas Princess'],\n",
              " 'A Ghost Story': ['A Ghost Story'],\n",
              " 'A Princess for Christmas': ['A Princess for Christmas'],\n",
              " 'Adventures in Babysitting': ['Adventures in Babysitting'],\n",
              " 'After': ['After',\n",
              "  'After We Collided',\n",
              "  'After the Raid',\n",
              "  'After Maria',\n",
              "  'After Darkness',\n",
              "  'After Parkland',\n",
              "  'After Porn Ends 2',\n",
              "  'After the Dark',\n",
              "  'Afternoon Delight',\n",
              "  'After the Ball',\n",
              "  'Afterimages',\n",
              "  'After School'],\n",
              " 'Alien': ['Alien Xmas',\n",
              "  'Alien Warfare',\n",
              "  'Aliens Stole My Body',\n",
              "  'Alien',\n",
              "  'Alien Resurrection',\n",
              "  'Alien Code',\n",
              "  'Alien Intruder',\n",
              "  'Aliens of the Deep'],\n",
              " 'American Animals': ['American Animals'],\n",
              " 'American Pie': [\"American Pie Presents: Girls' Rules\"],\n",
              " 'Ammonite': ['Ammonite'],\n",
              " 'Ana e Vitória': ['Ana e Vitória'],\n",
              " 'Arctic Dogs': ['Arctic Dogs'],\n",
              " 'Austin Powers': ['Austin Powers: International Man of Mystery',\n",
              "  'Austin Powers: The Spy Who Shagged Me',\n",
              "  'Austin Powers in Goldmember'],\n",
              " \"Baby's Day Out\": [\"Baby's Day Out\"],\n",
              " 'Bad Boys': ['Bad Boys'],\n",
              " 'Bad Genius': ['Bad Genius'],\n",
              " 'Bad Lieutenant': ['Bad Lieutenant'],\n",
              " 'Bad Teacher': ['Bad Teacher'],\n",
              " 'Barbarella': ['Barbarella'],\n",
              " 'Being Charlie': ['Being Charlie'],\n",
              " 'Beowulf': ['Beowulf', 'Beowulf & Grendel'],\n",
              " 'Berlin Syndrome': ['Berlin Syndrome'],\n",
              " 'Bill & Ted': ['Bill & Ted Face the Music'],\n",
              " 'Bravetown': ['Bravetown'],\n",
              " 'Brick': ['Brick Mansions', 'Brick Lane'],\n",
              " 'Cabin Fever': ['Cabin Fever: Patient Zero'],\n",
              " 'Cadaver': ['Cadaver'],\n",
              " 'Cashback': ['Cashback'],\n",
              " 'Chemical Hearts': ['Chemical Hearts'],\n",
              " 'Chocolat': ['Chocolate City: Vegas Strip', 'Chocolate City'],\n",
              " 'Confessions of a Shopaholic': ['Confessions of a Shopaholic'],\n",
              " 'Cool Runnings': ['Cool Runnings'],\n",
              " 'Copenhagen': ['Copenhagen'],\n",
              " 'Countdown': ['Countdown to Death: Pablo Escobar'],\n",
              " 'Creep': ['Creep', 'Creep 2', 'Creepshow 2'],\n",
              " 'Dadnapped': ['Dadnapped'],\n",
              " 'Dark City': ['Dark City Beneath the Beat'],\n",
              " 'Darr': ['Darra'],\n",
              " 'Dear Zachary: A Letter to a Son About His Father': ['Dear Zachary: A Letter to a Son About His Father'],\n",
              " 'Dear Zindagi': ['Dear Zindagi'],\n",
              " 'Descendants': ['Descendants', 'Descendants 3', 'Descendants 2'],\n",
              " 'Desperados': ['Desperados'],\n",
              " 'Diary of a Wimpy Kid': ['Diary of a Wimpy Kid',\n",
              "  'Diary of a Wimpy Kid: Rodrick Rules',\n",
              "  'Diary of a Wimpy Kid: The Long Haul'],\n",
              " 'Diary of a Wimpy Kid: The Long Haul': ['Diary of a Wimpy Kid: The Long Haul'],\n",
              " 'Dil Chahta Hai': ['Dil Chahta Hai'],\n",
              " 'Dilwale Dulhania Le Jayenge': ['Dilwale Dulhania Le Jayenge'],\n",
              " 'Dragonheart': ['Dragonheart: Vengeance',\n",
              "  'Dragonheart: Battle for the Heartfire'],\n",
              " 'Eat Pray Love': ['Eat Pray Love'],\n",
              " 'Eurovision Song Contest: The Story of Fire Saga': ['Eurovision Song Contest: The Story of Fire Saga'],\n",
              " 'Four Sisters and a Wedding': ['Four Sisters and a Wedding'],\n",
              " 'Frankenstein': [\"Frankenstein's Monster's Monster, Frankenstein\",\n",
              "  'Frankenstein and the Monster from Hell',\n",
              "  'Frankenstein'],\n",
              " 'Friends with Benefits': ['Friends with Benefits'],\n",
              " 'Funny Girl': ['Funny Girl'],\n",
              " \"God's Own Country\": [\"God's Own Country\"],\n",
              " 'Godzilla': ['Godzilla: City on the Edge of Battle',\n",
              "  'Godzilla: The Planet Eater'],\n",
              " 'Halloweentown': ['Halloweentown',\n",
              "  \"Halloweentown II: Kalabar's Revenge\",\n",
              "  'Halloweentown High'],\n",
              " 'Handsome Devil': ['Handsome Devil'],\n",
              " 'Happy as Lazzaro': ['Happy as Lazzaro'],\n",
              " 'Hatchet': ['Hatchet', 'Hatchet III', 'Hatchet II'],\n",
              " 'Hell or High Water': ['Hell or High Water'],\n",
              " 'Hellraiser': ['Hellraiser'],\n",
              " 'High-Rise': ['High-Rise'],\n",
              " 'Holidate': ['Holidate'],\n",
              " 'Honest Thief': ['Honest Thief'],\n",
              " 'House': ['House of the Witch',\n",
              "  'House Arrest',\n",
              "  'House of the Dead',\n",
              "  'House of Sand and Fog',\n",
              "  'House of 1000 Corpses',\n",
              "  'House on Haunted Hill',\n",
              "  'House of Hummingbird',\n",
              "  'House Hunting',\n",
              "  'Housequake',\n",
              "  'House with a Turret'],\n",
              " 'Hum Tum': ['Hum Tum'],\n",
              " 'Hush': ['Hush'],\n",
              " 'In Secret': ['In Secret'],\n",
              " 'Insidious': ['Insidious'],\n",
              " 'Inspector Gadget': [\"Inspector Gadget's Last Case\", 'Inspector Gadget 2'],\n",
              " 'Invisible Sister': ['Invisible Sister'],\n",
              " 'Ip Man': ['Ip Man',\n",
              "  'Ip Man 2',\n",
              "  'Ip Man 4: The Finale',\n",
              "  'Ip Man 3',\n",
              "  'Ip Man: Kung Fu Master'],\n",
              " 'It': ['Ittefaq',\n",
              "  'It Comes at Night',\n",
              "  \"It's for Your Own Good\",\n",
              "  'It Takes a Man and a Woman',\n",
              "  'It Takes a Lunatic',\n",
              "  \"It's Her Day\",\n",
              "  \"It's a Disaster\",\n",
              "  'It Had to Be You',\n",
              "  \"It's a Wonderful Life\",\n",
              "  \"It's So Easy and Other Lies\",\n",
              "  \"It Happened One Valentine's\",\n",
              "  \"It's All Good\"],\n",
              " 'Ittefaq': ['Ittefaq'],\n",
              " 'Jarhead': ['Jarhead: Law of Return'],\n",
              " 'Kal Ho Naa Ho': ['Kal Ho Naa Ho'],\n",
              " 'Kuch Kuch Hota Hai': ['Kuch Kuch Hota Hai'],\n",
              " 'Legend': ['Legend',\n",
              "  'Legends of the Hidden Temple',\n",
              "  'Legendary Weapons of China',\n",
              "  \"Legends of Oz: Dorothy's Return\"],\n",
              " 'Logan Lucky': ['Logan Lucky'],\n",
              " 'Love, Guaranteed': ['Love, Guaranteed'],\n",
              " 'Mad Max': ['Mad Max'],\n",
              " 'Madea': [\"Madea's Witness Protection\", 'Madea Goes to Jail'],\n",
              " 'Mama': [\"Mama's Boy\"],\n",
              " 'Marrowbone': ['Marrowbone'],\n",
              " 'Middle School: The Worst Years of My Life': ['Middle School: The Worst Years of My Life'],\n",
              " 'Miss Sloane': ['Miss Sloane'],\n",
              " 'Mission: Impossible': ['Mission: Impossible - Ghost Protocol'],\n",
              " 'My Fair Lady': ['My Fair Lady'],\n",
              " 'My Friend Dahmer': ['My Friend Dahmer'],\n",
              " 'My Spy': ['My Spy'],\n",
              " 'Ninja Assassin': ['Ninja Assassin'],\n",
              " 'Norm of the North': ['Norm of the North: King Sized Adventure',\n",
              "  'Norm of the North: Keys to the Kingdom'],\n",
              " 'O Vendedor de Sonhos': ['O Vendedor de Sonhos'],\n",
              " 'On the Waterfront': ['On the Waterfront'],\n",
              " 'Palm Springs': ['Palm Springs'],\n",
              " 'Panipat': ['Panipat'],\n",
              " 'Paterson': ['Paterson'],\n",
              " 'Phantasm': ['Phantasm'],\n",
              " 'Pirates of the Caribbean': ['Pirates of the Caribbean: The Curse of the Black Pearl',\n",
              "  \"Pirates of the Caribbean: Dead Man's Chest\",\n",
              "  \"Pirates of the Caribbean: At World's End\",\n",
              "  'Pirates of the Caribbean: Dead Men Tell No Tales'],\n",
              " 'Predator': ['Predator', 'Predators', 'Predator 2'],\n",
              " 'Princess Protection Program': ['Princess Protection Program'],\n",
              " 'Psy': ['Psychokinesis', 'Psycho', 'Psycho Bettys from Planet Pussycat'],\n",
              " 'Rango': ['Rango', 'Rangoon'],\n",
              " 'Rebecca': ['Rebecca'],\n",
              " 'Resident Evil': ['Resident Evil: Extinction',\n",
              "  'Resident Evil: Afterlife',\n",
              "  'Resident Evil: Apocalypse',\n",
              "  'Resident Evil'],\n",
              " 'RoboCop': ['RoboCop', 'RoboCop 3'],\n",
              " 'Rocky': ['Rocky Handsome'],\n",
              " 'Romeo & Juliet': ['Romeo & Juliet'],\n",
              " 'Safe Haven': ['Safe Haven'],\n",
              " 'Scary Movie': ['Scary Movie 5'],\n",
              " 'Seeking a Friend for the End of the World': ['Seeking a Friend for the End of the World'],\n",
              " \"She's Out of My League\": [\"She's Out of My League\"],\n",
              " 'Sherlock Holmes': ['Sherlock Holmes and the Secret Weapon',\n",
              "  'Sherlock Holmes and the Sign of Four'],\n",
              " 'Shoplifters': ['Shoplifters'],\n",
              " 'Sinister': ['Sinister 2'],\n",
              " 'Someone Great': ['Someone Great'],\n",
              " 'Spanglish': ['Spanglish'],\n",
              " 'Spree': ['Spree'],\n",
              " 'Star Wars': ['Star Wars: A New Hope',\n",
              "  'Star Wars: The Empire Strikes Back',\n",
              "  'Star Wars: Return of the Jedi',\n",
              "  'Star Wars: The Force Awakens',\n",
              "  'Star Wars: Episode III - Revenge of the Sith',\n",
              "  'Star Wars: The Last Jedi',\n",
              "  'Star Wars: Episode I - The Phantom Menace',\n",
              "  'Star Wars: The Rise of Skywalker',\n",
              "  'Star Wars: Episode II - Attack of the Clones',\n",
              "  'Star Wars Biomes',\n",
              "  \"Star Wars: Galaxy's Edge - Adventure Awaits\"],\n",
              " 'Stuart Little': ['Stuart Little'],\n",
              " 'Surviving Christmas': ['Surviving Christmas with the Relatives',\n",
              "  'Surviving Christmas'],\n",
              " 'Svaha: The Sixth Finger': ['Svaha: The Sixth Finger'],\n",
              " 'Swiped': ['Swiped'],\n",
              " 'Taken': ['Taken Heart'],\n",
              " 'Takers': ['Takers'],\n",
              " 'Teen': ['Teen Aur Aadha',\n",
              "  'Teen Titans Go! vs. Teen Titans',\n",
              "  'Teen Spirit',\n",
              "  'Teen Lust',\n",
              "  'Teenage Bank Heist',\n",
              "  'Teen Bahuraniyan',\n",
              "  'Teen Beach Movie',\n",
              "  'Teen Beach 2'],\n",
              " 'Teen Beach Movie': ['Teen Beach Movie'],\n",
              " 'Terminator': ['Terminator 2: Judgment Day', 'Terminator: Dark Fate'],\n",
              " 'The Abyss': ['The Abyss'],\n",
              " 'The Addams Family': ['The Addams Family'],\n",
              " 'The Aeronauts': ['The Aeronauts'],\n",
              " 'The African Queen': ['The African Queen'],\n",
              " 'The Babysitter': ['The Babysitter: Killer Queen',\n",
              "  'The Babysitter',\n",
              "  'The Babysitters'],\n",
              " 'The Big Green': ['The Big Green'],\n",
              " 'The Boy': ['The Boy Who Harnessed the Wind',\n",
              "  'The Boys in the Band',\n",
              "  'The Boy Who Cried Werewolf',\n",
              "  'The Boy Downstairs',\n",
              "  'The Boys of St. Vincent',\n",
              "  'The Boy Whose Skin Fell Off',\n",
              "  'The Boy from Medellín',\n",
              "  \"The Boys: The Sherman Brothers' Story\",\n",
              "  'The Boy Who Talked to Badgers'],\n",
              " 'The Boy Who Harnessed the Wind': ['The Boy Who Harnessed the Wind'],\n",
              " 'The Conjuring': ['The Conjuring', 'The Conjuring 2'],\n",
              " 'The Conversation': ['The Conversation'],\n",
              " 'The Disaster Artist': ['The Disaster Artist'],\n",
              " 'The Drug King': ['The Drug King'],\n",
              " 'The Endless': ['The Endless Trench', 'The Endless Summer'],\n",
              " 'The Fall': ['The Falls', \"The Fall of '55\"],\n",
              " 'The Family Stone': ['The Family Stone'],\n",
              " 'The Grudge': ['The Grudge'],\n",
              " 'The House Bunny': ['The House Bunny'],\n",
              " 'The Informer': ['The Informer'],\n",
              " 'The Kissing Booth': ['The Kissing Booth', 'The Kissing Booth 2'],\n",
              " 'The Last Black Man in San Francisco': ['The Last Black Man in San Francisco'],\n",
              " 'The Other Lamb': ['The Other Lamb'],\n",
              " 'The Peanut Butter Falcon': ['The Peanut Butter Falcon'],\n",
              " 'The Perfection': ['The Perfection'],\n",
              " 'The Postcard Killings': ['The Postcard Killings'],\n",
              " 'The Princess Diaries': ['The Princess Diaries',\n",
              "  'The Princess Diaries 2: Royal Engagement'],\n",
              " 'The Ritual': ['The Ritual'],\n",
              " 'The Scorpion King': ['The Scorpion King: Book of Souls'],\n",
              " 'The Squid and the Whale': ['The Squid and the Whale'],\n",
              " 'The Witch': ['The Witch: Part 1. The Subversion'],\n",
              " 'Tremors': ['Tremors: Shrieker Island'],\n",
              " 'Trolls World Tour': ['Trolls World Tour'],\n",
              " 'Troop Zero': ['Troop Zero'],\n",
              " 'Trumbo': ['Trumbo'],\n",
              " 'Turbo': ['Turbo'],\n",
              " 'Twenty': ['Twenty Bucks'],\n",
              " 'Twilight': ['Twilight', \"Twilight Zone: Rod Serling's Lost Classics\"],\n",
              " 'Uncle Frank': ['Uncle Frank'],\n",
              " 'Under Siege': ['Under Siege'],\n",
              " 'Underworld': ['Underworld',\n",
              "  'Underworld: Awakening',\n",
              "  'Underworld: Rise of the Lycans',\n",
              "  'Underworld: Evolution'],\n",
              " 'Vice': ['Vice'],\n",
              " 'Villains': ['Villains'],\n",
              " 'Vivarium': ['Vivarium'],\n",
              " 'War Dogs': ['War Dogs'],\n",
              " 'Who Framed Roger Rabbit': ['Who Framed Roger Rabbit'],\n",
              " 'Work It': ['Work It'],\n",
              " \"You're Next\": [\"You're Next\"],\n",
              " 'Z-O-M-B-I-E-S': ['Z-O-M-B-I-E-S', 'Z-O-M-B-I-E-S 2'],\n",
              " 'Zathura': ['Zathura: A Space Adventure'],\n",
              " 'Zindagi Na Milegi Dobara': ['Zindagi Na Milegi Dobara'],\n",
              " 'Zombieland': ['Zombieland']}"
            ]
          },
          "metadata": {},
          "execution_count": 34
        }
      ]
    },
    {
      "cell_type": "markdown",
      "source": [
        " # 3. 두 데이터 Movie Title로 합치기"
      ],
      "metadata": {
        "id": "vQz3wEXB0HcA"
      }
    },
    {
      "cell_type": "code",
      "source": [
        "genres_data"
      ],
      "metadata": {
        "colab": {
          "base_uri": "https://localhost:8080/",
          "height": 424
        },
        "id": "KAKrG-6d0GiD",
        "outputId": "5df762ad-a445-497c-f7ba-825e0014c756"
      },
      "execution_count": null,
      "outputs": [
        {
          "output_type": "execute_result",
          "data": {
            "text/html": [
              "<div>\n",
              "<style scoped>\n",
              "    .dataframe tbody tr th:only-of-type {\n",
              "        vertical-align: middle;\n",
              "    }\n",
              "\n",
              "    .dataframe tbody tr th {\n",
              "        vertical-align: top;\n",
              "    }\n",
              "\n",
              "    .dataframe thead th {\n",
              "        text-align: right;\n",
              "    }\n",
              "</style>\n",
              "<table border=\"1\" class=\"dataframe\">\n",
              "  <thead>\n",
              "    <tr style=\"text-align: right;\">\n",
              "      <th></th>\n",
              "      <th>Title</th>\n",
              "      <th>IMDb</th>\n",
              "      <th>Rotten Tomatoes</th>\n",
              "      <th>OTT</th>\n",
              "      <th>Genres</th>\n",
              "    </tr>\n",
              "  </thead>\n",
              "  <tbody>\n",
              "    <tr>\n",
              "      <th>0</th>\n",
              "      <td>The Irishman</td>\n",
              "      <td>78</td>\n",
              "      <td>98</td>\n",
              "      <td>Netflix</td>\n",
              "      <td>Biography</td>\n",
              "    </tr>\n",
              "    <tr>\n",
              "      <th>0</th>\n",
              "      <td>The Irishman</td>\n",
              "      <td>78</td>\n",
              "      <td>98</td>\n",
              "      <td>Netflix</td>\n",
              "      <td>Crime</td>\n",
              "    </tr>\n",
              "    <tr>\n",
              "      <th>0</th>\n",
              "      <td>The Irishman</td>\n",
              "      <td>78</td>\n",
              "      <td>98</td>\n",
              "      <td>Netflix</td>\n",
              "      <td>Drama</td>\n",
              "    </tr>\n",
              "    <tr>\n",
              "      <th>1</th>\n",
              "      <td>Dangal</td>\n",
              "      <td>84</td>\n",
              "      <td>97</td>\n",
              "      <td>Netflix</td>\n",
              "      <td>Action</td>\n",
              "    </tr>\n",
              "    <tr>\n",
              "      <th>1</th>\n",
              "      <td>Dangal</td>\n",
              "      <td>84</td>\n",
              "      <td>97</td>\n",
              "      <td>Netflix</td>\n",
              "      <td>Biography</td>\n",
              "    </tr>\n",
              "    <tr>\n",
              "      <th>...</th>\n",
              "      <td>...</td>\n",
              "      <td>...</td>\n",
              "      <td>...</td>\n",
              "      <td>...</td>\n",
              "      <td>...</td>\n",
              "    </tr>\n",
              "    <tr>\n",
              "      <th>37003</th>\n",
              "      <td>Disney Channel Halloween House Party</td>\n",
              "      <td>53</td>\n",
              "      <td>33</td>\n",
              "      <td>Disney+</td>\n",
              "      <td>Musical</td>\n",
              "    </tr>\n",
              "    <tr>\n",
              "      <th>37004</th>\n",
              "      <td>Earth Live</td>\n",
              "      <td>52</td>\n",
              "      <td>33</td>\n",
              "      <td>Disney+</td>\n",
              "      <td>Documentary</td>\n",
              "    </tr>\n",
              "    <tr>\n",
              "      <th>37005</th>\n",
              "      <td>Wild Uganda</td>\n",
              "      <td>75</td>\n",
              "      <td>32</td>\n",
              "      <td>Disney+</td>\n",
              "      <td>Documentary</td>\n",
              "    </tr>\n",
              "    <tr>\n",
              "      <th>37006</th>\n",
              "      <td>Challenge Accepted! Disney Channel's Epic Holi...</td>\n",
              "      <td>39</td>\n",
              "      <td>32</td>\n",
              "      <td>Disney+</td>\n",
              "      <td>Musical</td>\n",
              "    </tr>\n",
              "    <tr>\n",
              "      <th>37007</th>\n",
              "      <td>Sharks of the Bermuda Triangle</td>\n",
              "      <td>65</td>\n",
              "      <td>31</td>\n",
              "      <td>Disney+</td>\n",
              "      <td>Documentary</td>\n",
              "    </tr>\n",
              "  </tbody>\n",
              "</table>\n",
              "<p>24643 rows × 5 columns</p>\n",
              "</div>"
            ],
            "text/plain": [
              "                                                   Title  ...       Genres\n",
              "0                                           The Irishman  ...    Biography\n",
              "0                                           The Irishman  ...        Crime\n",
              "0                                           The Irishman  ...        Drama\n",
              "1                                                 Dangal  ...       Action\n",
              "1                                                 Dangal  ...    Biography\n",
              "...                                                  ...  ...          ...\n",
              "37003               Disney Channel Halloween House Party  ...      Musical\n",
              "37004                                         Earth Live  ...  Documentary\n",
              "37005                                        Wild Uganda  ...  Documentary\n",
              "37006  Challenge Accepted! Disney Channel's Epic Holi...  ...      Musical\n",
              "37007                     Sharks of the Bermuda Triangle  ...  Documentary\n",
              "\n",
              "[24643 rows x 5 columns]"
            ]
          },
          "metadata": {},
          "execution_count": 35
        }
      ]
    },
    {
      "cell_type": "code",
      "source": [
        "mbti_data2 = mbti_data.rename(columns={'movie':'Title'})"
      ],
      "metadata": {
        "id": "Spxh2AZ011Fc"
      },
      "execution_count": null,
      "outputs": []
    },
    {
      "cell_type": "code",
      "source": [
        "mbti_data2"
      ],
      "metadata": {
        "colab": {
          "base_uri": "https://localhost:8080/",
          "height": 424
        },
        "id": "7o38VjFj37Zj",
        "outputId": "f794839d-4856-407e-a204-fe97cbb4780f"
      },
      "execution_count": null,
      "outputs": [
        {
          "output_type": "execute_result",
          "data": {
            "text/html": [
              "<div>\n",
              "<style scoped>\n",
              "    .dataframe tbody tr th:only-of-type {\n",
              "        vertical-align: middle;\n",
              "    }\n",
              "\n",
              "    .dataframe tbody tr th {\n",
              "        vertical-align: top;\n",
              "    }\n",
              "\n",
              "    .dataframe thead th {\n",
              "        text-align: right;\n",
              "    }\n",
              "</style>\n",
              "<table border=\"1\" class=\"dataframe\">\n",
              "  <thead>\n",
              "    <tr style=\"text-align: right;\">\n",
              "      <th></th>\n",
              "      <th>mbti</th>\n",
              "      <th>role</th>\n",
              "      <th>Title</th>\n",
              "    </tr>\n",
              "  </thead>\n",
              "  <tbody>\n",
              "    <tr>\n",
              "      <th>0</th>\n",
              "      <td>ESFP</td>\n",
              "      <td>Peter Quill \"Star-Lord\"</td>\n",
              "      <td>Marvel Cinematic Universe</td>\n",
              "    </tr>\n",
              "    <tr>\n",
              "      <th>1</th>\n",
              "      <td>ESFP</td>\n",
              "      <td>Anakin Skywalker</td>\n",
              "      <td>Star Wars</td>\n",
              "    </tr>\n",
              "    <tr>\n",
              "      <th>2</th>\n",
              "      <td>ESFP</td>\n",
              "      <td>Ron Weasley</td>\n",
              "      <td>Harry Potter (franchise)</td>\n",
              "    </tr>\n",
              "    <tr>\n",
              "      <th>3</th>\n",
              "      <td>ESFP</td>\n",
              "      <td>Bellatrix Lestrange</td>\n",
              "      <td>Harry Potter (franchise)</td>\n",
              "    </tr>\n",
              "    <tr>\n",
              "      <th>4</th>\n",
              "      <td>ESFP</td>\n",
              "      <td>Simba</td>\n",
              "      <td>The Lion King (1994)</td>\n",
              "    </tr>\n",
              "    <tr>\n",
              "      <th>...</th>\n",
              "      <td>...</td>\n",
              "      <td>...</td>\n",
              "      <td>...</td>\n",
              "    </tr>\n",
              "    <tr>\n",
              "      <th>18733</th>\n",
              "      <td>INTJ</td>\n",
              "      <td>Roman Bridger</td>\n",
              "      <td>Scream</td>\n",
              "    </tr>\n",
              "    <tr>\n",
              "      <th>18734</th>\n",
              "      <td>INTJ</td>\n",
              "      <td>Richard Parker</td>\n",
              "      <td>The Amazing Spider-Man (2012)</td>\n",
              "    </tr>\n",
              "    <tr>\n",
              "      <th>18736</th>\n",
              "      <td>INTJ</td>\n",
              "      <td>Dr. Caroline Caldwell</td>\n",
              "      <td>The Girl with All the Gifts (2016)</td>\n",
              "    </tr>\n",
              "    <tr>\n",
              "      <th>18739</th>\n",
              "      <td>INTJ</td>\n",
              "      <td>Klimek 'The General'</td>\n",
              "      <td>The Informer</td>\n",
              "    </tr>\n",
              "    <tr>\n",
              "      <th>18740</th>\n",
              "      <td>INTJ</td>\n",
              "      <td>Lily Walker</td>\n",
              "      <td>Revolver (2005)</td>\n",
              "    </tr>\n",
              "  </tbody>\n",
              "</table>\n",
              "<p>14667 rows × 3 columns</p>\n",
              "</div>"
            ],
            "text/plain": [
              "       mbti                     role                               Title\n",
              "0      ESFP  Peter Quill \"Star-Lord\"           Marvel Cinematic Universe\n",
              "1      ESFP         Anakin Skywalker                           Star Wars\n",
              "2      ESFP              Ron Weasley            Harry Potter (franchise)\n",
              "3      ESFP      Bellatrix Lestrange            Harry Potter (franchise)\n",
              "4      ESFP                    Simba                The Lion King (1994)\n",
              "...     ...                      ...                                 ...\n",
              "18733  INTJ            Roman Bridger                              Scream\n",
              "18734  INTJ           Richard Parker       The Amazing Spider-Man (2012)\n",
              "18736  INTJ    Dr. Caroline Caldwell  The Girl with All the Gifts (2016)\n",
              "18739  INTJ     Klimek 'The General'                        The Informer\n",
              "18740  INTJ              Lily Walker                     Revolver (2005)\n",
              "\n",
              "[14667 rows x 3 columns]"
            ]
          },
          "metadata": {},
          "execution_count": 37
        }
      ]
    },
    {
      "cell_type": "markdown",
      "source": [
        "index 다시 쓰기"
      ],
      "metadata": {
        "id": "HpfyaySm3yY-"
      }
    },
    {
      "cell_type": "code",
      "source": [
        "mbti_data2 = mbti_data2.reset_index()\n",
        "mbti_data2 = mbti_data2.drop('index', axis=1)"
      ],
      "metadata": {
        "id": "UnxvaAu93MIH"
      },
      "execution_count": null,
      "outputs": []
    },
    {
      "cell_type": "code",
      "source": [
        "genres_data = genres_data.reset_index()\n",
        "genres_data = genres_data.drop('index', axis=1)"
      ],
      "metadata": {
        "id": "oct0MYym3R1X"
      },
      "execution_count": null,
      "outputs": []
    },
    {
      "cell_type": "code",
      "source": [
        "data = pd.merge(genres_data, mbti_data2)\n",
        "data"
      ],
      "metadata": {
        "colab": {
          "base_uri": "https://localhost:8080/",
          "height": 424
        },
        "id": "l5vO88R02V6W",
        "outputId": "537068f0-d7af-440e-c6d8-2911a3844787"
      },
      "execution_count": null,
      "outputs": [
        {
          "output_type": "execute_result",
          "data": {
            "text/html": [
              "<div>\n",
              "<style scoped>\n",
              "    .dataframe tbody tr th:only-of-type {\n",
              "        vertical-align: middle;\n",
              "    }\n",
              "\n",
              "    .dataframe tbody tr th {\n",
              "        vertical-align: top;\n",
              "    }\n",
              "\n",
              "    .dataframe thead th {\n",
              "        text-align: right;\n",
              "    }\n",
              "</style>\n",
              "<table border=\"1\" class=\"dataframe\">\n",
              "  <thead>\n",
              "    <tr style=\"text-align: right;\">\n",
              "      <th></th>\n",
              "      <th>Title</th>\n",
              "      <th>IMDb</th>\n",
              "      <th>Rotten Tomatoes</th>\n",
              "      <th>OTT</th>\n",
              "      <th>Genres</th>\n",
              "      <th>mbti</th>\n",
              "      <th>role</th>\n",
              "    </tr>\n",
              "  </thead>\n",
              "  <tbody>\n",
              "    <tr>\n",
              "      <th>0</th>\n",
              "      <td>The Boy Who Harnessed the Wind</td>\n",
              "      <td>76</td>\n",
              "      <td>89</td>\n",
              "      <td>Netflix</td>\n",
              "      <td>Biography</td>\n",
              "      <td>ISFJ</td>\n",
              "      <td>Trywell Kamkwamba</td>\n",
              "    </tr>\n",
              "    <tr>\n",
              "      <th>1</th>\n",
              "      <td>The Boy Who Harnessed the Wind</td>\n",
              "      <td>76</td>\n",
              "      <td>89</td>\n",
              "      <td>Netflix</td>\n",
              "      <td>Biography</td>\n",
              "      <td>INTP</td>\n",
              "      <td>William Kamkwamba</td>\n",
              "    </tr>\n",
              "    <tr>\n",
              "      <th>2</th>\n",
              "      <td>The Boy Who Harnessed the Wind</td>\n",
              "      <td>76</td>\n",
              "      <td>89</td>\n",
              "      <td>Netflix</td>\n",
              "      <td>Drama</td>\n",
              "      <td>ISFJ</td>\n",
              "      <td>Trywell Kamkwamba</td>\n",
              "    </tr>\n",
              "    <tr>\n",
              "      <th>3</th>\n",
              "      <td>The Boy Who Harnessed the Wind</td>\n",
              "      <td>76</td>\n",
              "      <td>89</td>\n",
              "      <td>Netflix</td>\n",
              "      <td>Drama</td>\n",
              "      <td>INTP</td>\n",
              "      <td>William Kamkwamba</td>\n",
              "    </tr>\n",
              "    <tr>\n",
              "      <th>4</th>\n",
              "      <td>The Boy Who Harnessed the Wind</td>\n",
              "      <td>76</td>\n",
              "      <td>89</td>\n",
              "      <td>Netflix</td>\n",
              "      <td>History</td>\n",
              "      <td>ISFJ</td>\n",
              "      <td>Trywell Kamkwamba</td>\n",
              "    </tr>\n",
              "    <tr>\n",
              "      <th>...</th>\n",
              "      <td>...</td>\n",
              "      <td>...</td>\n",
              "      <td>...</td>\n",
              "      <td>...</td>\n",
              "      <td>...</td>\n",
              "      <td>...</td>\n",
              "      <td>...</td>\n",
              "    </tr>\n",
              "    <tr>\n",
              "      <th>2358</th>\n",
              "      <td>Dadnapped</td>\n",
              "      <td>49</td>\n",
              "      <td>51</td>\n",
              "      <td>Disney+</td>\n",
              "      <td>Crime</td>\n",
              "      <td>ISFP</td>\n",
              "      <td>Wheeze</td>\n",
              "    </tr>\n",
              "    <tr>\n",
              "      <th>2359</th>\n",
              "      <td>Dadnapped</td>\n",
              "      <td>49</td>\n",
              "      <td>51</td>\n",
              "      <td>Disney+</td>\n",
              "      <td>Family</td>\n",
              "      <td>ESTP</td>\n",
              "      <td>Melissa Morris</td>\n",
              "    </tr>\n",
              "    <tr>\n",
              "      <th>2360</th>\n",
              "      <td>Dadnapped</td>\n",
              "      <td>49</td>\n",
              "      <td>51</td>\n",
              "      <td>Disney+</td>\n",
              "      <td>Family</td>\n",
              "      <td>ESTJ</td>\n",
              "      <td>Merv Kilbo</td>\n",
              "    </tr>\n",
              "    <tr>\n",
              "      <th>2361</th>\n",
              "      <td>Dadnapped</td>\n",
              "      <td>49</td>\n",
              "      <td>51</td>\n",
              "      <td>Disney+</td>\n",
              "      <td>Family</td>\n",
              "      <td>ENFJ</td>\n",
              "      <td>Neal Morris</td>\n",
              "    </tr>\n",
              "    <tr>\n",
              "      <th>2362</th>\n",
              "      <td>Dadnapped</td>\n",
              "      <td>49</td>\n",
              "      <td>51</td>\n",
              "      <td>Disney+</td>\n",
              "      <td>Family</td>\n",
              "      <td>ISFP</td>\n",
              "      <td>Wheeze</td>\n",
              "    </tr>\n",
              "  </tbody>\n",
              "</table>\n",
              "<p>2363 rows × 7 columns</p>\n",
              "</div>"
            ],
            "text/plain": [
              "                               Title  IMDb  ...  mbti               role\n",
              "0     The Boy Who Harnessed the Wind    76  ...  ISFJ  Trywell Kamkwamba\n",
              "1     The Boy Who Harnessed the Wind    76  ...  INTP  William Kamkwamba\n",
              "2     The Boy Who Harnessed the Wind    76  ...  ISFJ  Trywell Kamkwamba\n",
              "3     The Boy Who Harnessed the Wind    76  ...  INTP  William Kamkwamba\n",
              "4     The Boy Who Harnessed the Wind    76  ...  ISFJ  Trywell Kamkwamba\n",
              "...                              ...   ...  ...   ...                ...\n",
              "2358                       Dadnapped    49  ...  ISFP             Wheeze\n",
              "2359                       Dadnapped    49  ...  ESTP     Melissa Morris\n",
              "2360                       Dadnapped    49  ...  ESTJ         Merv Kilbo\n",
              "2361                       Dadnapped    49  ...  ENFJ        Neal Morris\n",
              "2362                       Dadnapped    49  ...  ISFP             Wheeze\n",
              "\n",
              "[2363 rows x 7 columns]"
            ]
          },
          "metadata": {},
          "execution_count": 40
        }
      ]
    },
    {
      "cell_type": "code",
      "source": [
        "data.info()"
      ],
      "metadata": {
        "colab": {
          "base_uri": "https://localhost:8080/"
        },
        "id": "IbLArdvD43IZ",
        "outputId": "7e5c0285-e757-464d-c68e-646f4c8d6952"
      },
      "execution_count": null,
      "outputs": [
        {
          "output_type": "stream",
          "name": "stdout",
          "text": [
            "<class 'pandas.core.frame.DataFrame'>\n",
            "Int64Index: 2363 entries, 0 to 2362\n",
            "Data columns (total 7 columns):\n",
            " #   Column           Non-Null Count  Dtype \n",
            "---  ------           --------------  ----- \n",
            " 0   Title            2363 non-null   object\n",
            " 1   IMDb             2363 non-null   int64 \n",
            " 2   Rotten Tomatoes  2363 non-null   int64 \n",
            " 3   OTT              2363 non-null   object\n",
            " 4   Genres           2363 non-null   object\n",
            " 5   mbti             2363 non-null   object\n",
            " 6   role             2363 non-null   object\n",
            "dtypes: int64(2), object(5)\n",
            "memory usage: 147.7+ KB\n"
          ]
        }
      ]
    },
    {
      "cell_type": "markdown",
      "source": [
        "# 4. MBTI 궁합 점수 함수 만들기"
      ],
      "metadata": {
        "id": "w3MD0Od7md7O"
      }
    },
    {
      "cell_type": "markdown",
      "source": [
        "* input으로 사용자 mbti, 장르   \n",
        "* 장르에 해당하는 영화 추출, 사용자 mbti와 일치하는 영화   \n",
        "* 영화 리스트 돌면서 unique한 mbti 인물 별 궁합 점수 내기   \n",
        "* 영화 평점 높은 순   \n",
        "* 5개 출력하고 제공하는 OTT도 출력"
      ],
      "metadata": {
        "id": "USdQbZivmwqu"
      }
    },
    {
      "cell_type": "code",
      "source": [
        "data.head()"
      ],
      "metadata": {
        "colab": {
          "base_uri": "https://localhost:8080/",
          "height": 206
        },
        "id": "WUaeHTpZKuW0",
        "outputId": "39c9f729-e67c-4dd4-c680-d4002913e2ae"
      },
      "execution_count": null,
      "outputs": [
        {
          "output_type": "execute_result",
          "data": {
            "text/html": [
              "<div>\n",
              "<style scoped>\n",
              "    .dataframe tbody tr th:only-of-type {\n",
              "        vertical-align: middle;\n",
              "    }\n",
              "\n",
              "    .dataframe tbody tr th {\n",
              "        vertical-align: top;\n",
              "    }\n",
              "\n",
              "    .dataframe thead th {\n",
              "        text-align: right;\n",
              "    }\n",
              "</style>\n",
              "<table border=\"1\" class=\"dataframe\">\n",
              "  <thead>\n",
              "    <tr style=\"text-align: right;\">\n",
              "      <th></th>\n",
              "      <th>Title</th>\n",
              "      <th>IMDb</th>\n",
              "      <th>Rotten Tomatoes</th>\n",
              "      <th>OTT</th>\n",
              "      <th>Genres</th>\n",
              "      <th>mbti</th>\n",
              "      <th>role</th>\n",
              "    </tr>\n",
              "  </thead>\n",
              "  <tbody>\n",
              "    <tr>\n",
              "      <th>0</th>\n",
              "      <td>The Boy Who Harnessed the Wind</td>\n",
              "      <td>76</td>\n",
              "      <td>89</td>\n",
              "      <td>Netflix</td>\n",
              "      <td>Biography</td>\n",
              "      <td>ISFJ</td>\n",
              "      <td>Trywell Kamkwamba</td>\n",
              "    </tr>\n",
              "    <tr>\n",
              "      <th>1</th>\n",
              "      <td>The Boy Who Harnessed the Wind</td>\n",
              "      <td>76</td>\n",
              "      <td>89</td>\n",
              "      <td>Netflix</td>\n",
              "      <td>Biography</td>\n",
              "      <td>INTP</td>\n",
              "      <td>William Kamkwamba</td>\n",
              "    </tr>\n",
              "    <tr>\n",
              "      <th>2</th>\n",
              "      <td>The Boy Who Harnessed the Wind</td>\n",
              "      <td>76</td>\n",
              "      <td>89</td>\n",
              "      <td>Netflix</td>\n",
              "      <td>Drama</td>\n",
              "      <td>ISFJ</td>\n",
              "      <td>Trywell Kamkwamba</td>\n",
              "    </tr>\n",
              "    <tr>\n",
              "      <th>3</th>\n",
              "      <td>The Boy Who Harnessed the Wind</td>\n",
              "      <td>76</td>\n",
              "      <td>89</td>\n",
              "      <td>Netflix</td>\n",
              "      <td>Drama</td>\n",
              "      <td>INTP</td>\n",
              "      <td>William Kamkwamba</td>\n",
              "    </tr>\n",
              "    <tr>\n",
              "      <th>4</th>\n",
              "      <td>The Boy Who Harnessed the Wind</td>\n",
              "      <td>76</td>\n",
              "      <td>89</td>\n",
              "      <td>Netflix</td>\n",
              "      <td>History</td>\n",
              "      <td>ISFJ</td>\n",
              "      <td>Trywell Kamkwamba</td>\n",
              "    </tr>\n",
              "  </tbody>\n",
              "</table>\n",
              "</div>"
            ],
            "text/plain": [
              "                            Title  IMDb  ...  mbti               role\n",
              "0  The Boy Who Harnessed the Wind    76  ...  ISFJ  Trywell Kamkwamba\n",
              "1  The Boy Who Harnessed the Wind    76  ...  INTP  William Kamkwamba\n",
              "2  The Boy Who Harnessed the Wind    76  ...  ISFJ  Trywell Kamkwamba\n",
              "3  The Boy Who Harnessed the Wind    76  ...  INTP  William Kamkwamba\n",
              "4  The Boy Who Harnessed the Wind    76  ...  ISFJ  Trywell Kamkwamba\n",
              "\n",
              "[5 rows x 7 columns]"
            ]
          },
          "metadata": {},
          "execution_count": 42
        }
      ]
    },
    {
      "cell_type": "code",
      "source": [
        "def movie_list(user_mbti, genre):\n",
        "  movies = list(set(data.Title[data.mbti == user_mbti]) & set(data.Title[data.Genres == genre]))\n",
        "  if movies == [] : return None\n",
        "  else : return movies"
      ],
      "metadata": {
        "id": "oUTF79NNA2Ai"
      },
      "execution_count": null,
      "outputs": []
    },
    {
      "cell_type": "code",
      "source": [
        "import numpy as np"
      ],
      "metadata": {
        "id": "cefFhAqpynPn"
      },
      "execution_count": null,
      "outputs": []
    },
    {
      "cell_type": "code",
      "source": [
        "mbti_score = np.matrix([\n",
        "    [1, 1, 1, 2, 1, 2, 1, 1, -2, -2, -2, -2, -2, -2, -2, -2],\n",
        "    [1, 1, 2, 1, 2, 1, 1, 1, -2, -2, -2, -2, -2, -2, -2, -2],\n",
        "    [1, 2, 1, 1, 1, 1, 1, 2, -2, -2, -2, -2, -2, -2, -2, -2],\n",
        "    [2, 1, 1, 1, 1, 1, 1, 1, 2, -2, -2, -2, -2, -2, -2, -2],\n",
        "    [1, 2, 1, 1, 1, 1, 1, 2, 0, 0, 0, 0, -1, -1, -1, -1],\n",
        "    [2, 1, 1, 1, 1, 1, 2, 1, 0, 0, 0, 0, 0, 0, 0, 0],\n",
        "    [1, 1, 1, 1, 1, 2, 1, 1, 0, 0, 0, 0, -1, -1, -1, 2],\n",
        "    [1, 1, 2, 1, 2, 1, 1, 1, 0, 0, 0, 0, -1, -1, -1, -1],\n",
        "    [-2, -2, -2, 2, 0, 0, 0, 0, -1, -1, -1, -1, 0, 2, 0, 2],\n",
        "    [-2, -2, -2, -2, 0, 0, 0, 0, -1, -1, -1, -1, 2, 0, 2, 0],\n",
        "    [-2, -2, -2, -2, 0, 0, 0, 0, -1, -1, -1, -1, 0, 2, 0, 2],\n",
        "    [-2, -2, -2, -2, 0, 0, 0, 0, -1, -1, -1, -1, 2, 0, 2, 0],\n",
        "    [-2, -2, -2, -2, -1, 0, -1, -1, 0, 2, 0, 2, 1, 1, 1, 1],\n",
        "    [-2, -2, -2, -2, -1, 0, -1, -1, 2, 0, 2, 0, 1, 1, 1, 1],\n",
        "    [-2, -2, -2, -2, -1, 0, -1, -1, 0, 2, 0, 2, 1, 1, 1, 1],\n",
        "    [-2, -2, -2, -2, -1, 0, 2, -1, 2, 0, 2, 0, 1, 1, 1, 1]\n",
        "])"
      ],
      "metadata": {
        "id": "rwWwnXOXONSs"
      },
      "execution_count": null,
      "outputs": []
    },
    {
      "cell_type": "code",
      "source": [
        "mbti_all = dict(\n",
        "    INFP=0,\n",
        "    ENFP=1,\n",
        "    INFJ=2,\n",
        "    ENFJ=3,\n",
        "    INTJ=4,\n",
        "    ENTJ=5,\n",
        "    INTP=6,\n",
        "    ENTP=7,\n",
        "    ISFP=8,\n",
        "    ESFP=9,\n",
        "    ISTP=10,\n",
        "    ESTP=11,\n",
        "    ISFJ=12,\n",
        "    ESFJ=13,\n",
        "    ISTJ=14,\n",
        "    ESTJ=15\n",
        ")"
      ],
      "metadata": {
        "id": "PmUUt48PNqp1"
      },
      "execution_count": null,
      "outputs": []
    },
    {
      "cell_type": "code",
      "source": [
        "M = input(\"What is your mbti?> \")"
      ],
      "metadata": {
        "colab": {
          "base_uri": "https://localhost:8080/"
        },
        "id": "bgnYf7c30W_E",
        "outputId": "28aad8fc-11d9-46e7-fe9d-199748f88f1e"
      },
      "execution_count": null,
      "outputs": [
        {
          "name": "stdout",
          "output_type": "stream",
          "text": [
            "What is your mbti?> ISFJ\n"
          ]
        }
      ]
    },
    {
      "cell_type": "code",
      "source": [
        "g = input(\"Which genre do you want to watch?> \")"
      ],
      "metadata": {
        "colab": {
          "base_uri": "https://localhost:8080/"
        },
        "id": "gGEc9CD0zwil",
        "outputId": "eda3904e-4eff-46f1-edcd-0f84144c05f2"
      },
      "execution_count": null,
      "outputs": [
        {
          "name": "stdout",
          "output_type": "stream",
          "text": [
            "Which genre do you want to watch?> Biography\n"
          ]
        }
      ]
    },
    {
      "cell_type": "code",
      "source": [
        "mlist = movie_list(M, g)\n",
        "print(mlist)"
      ],
      "metadata": {
        "colab": {
          "base_uri": "https://localhost:8080/"
        },
        "id": "U-k7bF6KzU8h",
        "outputId": "fd4f37e8-9d5d-4ddc-d90c-280b0a3897fb"
      },
      "execution_count": null,
      "outputs": [
        {
          "output_type": "stream",
          "name": "stdout",
          "text": [
            "['American Animals', 'War Dogs', 'Ip Man', 'The Boy Who Harnessed the Wind']\n"
          ]
        }
      ]
    },
    {
      "cell_type": "markdown",
      "source": [
        ""
      ],
      "metadata": {
        "id": "pRpjVaD2Vujc"
      }
    },
    {
      "cell_type": "code",
      "source": [
        "ex = data.mbti[data.Title == mlist[0]].unique()\n",
        "ex"
      ],
      "metadata": {
        "colab": {
          "base_uri": "https://localhost:8080/"
        },
        "id": "Yr-wcktu3XXB",
        "outputId": "b35056fb-02fb-4a3a-8642-56ad9ed08d7c"
      },
      "execution_count": null,
      "outputs": [
        {
          "output_type": "execute_result",
          "data": {
            "text/plain": [
              "array(['ESTP', 'ENFP', 'ISFJ', 'INTJ'], dtype=object)"
            ]
          },
          "metadata": {},
          "execution_count": 50
        }
      ]
    },
    {
      "cell_type": "markdown",
      "source": [
        "예1\n",
        "ISFJ&ISFJ=1\n",
        "ISFJ&INTP=-1\n",
        "1 + (-1) = 0"
      ],
      "metadata": {
        "id": "dEv27US_6DAp"
      }
    },
    {
      "cell_type": "code",
      "source": [
        "def sum_score(user_mbti, movies_list):\n",
        "  L = []\n",
        "  a = mbti_all.get(user_mbti)\n",
        "  for i in range(len(movies_list)):\n",
        "    s = 0\n",
        "    n = data.mbti[data.Title == movies_list[i]].unique()\n",
        "    for j in range(len(n)):\n",
        "      b = mbti_all.get(n[j])\n",
        "      s += mbti_score.A[a][b]\n",
        "    L.append(s)\n",
        "  return L"
      ],
      "metadata": {
        "id": "XFURgrmwvodF"
      },
      "execution_count": null,
      "outputs": []
    },
    {
      "cell_type": "code",
      "source": [
        "sum_score(M, mlist)"
      ],
      "metadata": {
        "colab": {
          "base_uri": "https://localhost:8080/"
        },
        "id": "y5su1GYL3Eqf",
        "outputId": "365c27b4-501c-4c34-b7e3-d6f6e74e7836"
      },
      "execution_count": null,
      "outputs": [
        {
          "output_type": "execute_result",
          "data": {
            "text/plain": [
              "[0, 2, 7, 0]"
            ]
          },
          "metadata": {},
          "execution_count": 52
        }
      ]
    },
    {
      "cell_type": "code",
      "source": [
        "data.rename(columns={'Rotten Tomatoes':'Rotten_Tomatoes'}, inplace=True)\n"
      ],
      "metadata": {
        "id": "nEbwn86PJa0d"
      },
      "execution_count": null,
      "outputs": []
    },
    {
      "cell_type": "code",
      "source": [
        "def recommended_movie(user_mbti, movie_list) :\n",
        "  scores = sum_score(user_mbti, movie_list)\n",
        "  \n",
        "  for i in range(len(movie_list)) :\n",
        "    scores[i] += data.IMDb[data.Title == movie_list[i]].unique()\n",
        "    scores[i] += data.Rotten_Tomatoes[data.Title == movie_list[i]].unique()\n",
        "  \n",
        "  idx = np.argmax(scores)\n",
        "  ott = data.OTT[data.Title==movie_list[idx]].unique()\n",
        "  ott_name = \"\"\n",
        "\n",
        "  for i in ott :\n",
        "    ott_name += i\n",
        "    ott_name += \" \"\n",
        "\n",
        "  print(\"Recommended Movie : {} , Serviced by : {}\".format(movie_list[idx], ott_name))\n",
        "  \n"
      ],
      "metadata": {
        "id": "lyuzYgEwEPkB"
      },
      "execution_count": null,
      "outputs": []
    },
    {
      "cell_type": "code",
      "source": [
        "recommended_movie(M, mlist)"
      ],
      "metadata": {
        "colab": {
          "base_uri": "https://localhost:8080/"
        },
        "id": "-a2yA1wNF2uG",
        "outputId": "ced4a3dc-c7c8-4401-ed64-40fca7d88f90"
      },
      "execution_count": null,
      "outputs": [
        {
          "output_type": "stream",
          "name": "stdout",
          "text": [
            "Recommended Movie : Ip Man , Serviced by : Netflix \n"
          ]
        }
      ]
    }
  ]
}